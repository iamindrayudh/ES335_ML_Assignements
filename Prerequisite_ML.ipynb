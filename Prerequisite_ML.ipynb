{
  "nbformat": 4,
  "nbformat_minor": 0,
  "metadata": {
    "colab": {
      "provenance": []
    },
    "kernelspec": {
      "name": "python3",
      "display_name": "Python 3"
    },
    "language_info": {
      "name": "python"
    }
  },
  "cells": [
    {
      "cell_type": "markdown",
      "source": [
        "# 1. How many multiplications and additions do you need to perform a matrix multiplication between a (n, k) and (k, m) matrix? Explain.\n"
      ],
      "metadata": {
        "id": "t_dcR7kZ5KhF"
      }
    },
    {
      "cell_type": "markdown",
      "source": [
        "Matrix multiplication involves the calculation of the product of two matrices, and to obtain that we need to perform several additions and multiplications between the elements.\n",
        "\n",
        "Let's say a matrix A(n,k) and matrix B(k,m) which when multiplied will give us a resultant matrix C(n,m).\n",
        "\n",
        "Generally, to calculate one resultant element let's say C[i][j], we have to multiply each element of the i-th row of matrix A with the corresponding element in the j-th column of the matrix B.\n",
        "\n",
        "So we can say, $ C[i][j] = A[i][1] * B[1][j] + A[i][2] * B[2][j] + A[i][3] * B[3][j] + ..... + A[i][k] * B[k][j] $\n",
        "\n",
        "Therefore we can conclude that we are performing 'k' multiplications and 'k-1' additions for each element.\n",
        "\n",
        "And again there are total $ n * m $ elements in the resultant matrix hence we need :\n",
        "\n",
        "**Total multiplication : $ n * m * k $** ,\n",
        "**Total additions : $ n * m * (k-1) $**\n",
        "\n",
        "Example:\n",
        "Let's take an example of two matrices A(2,3) and B(3,2),\n",
        "\n",
        "Matrix A :\n",
        "\n",
        "$ \\begin{bmatrix}\n",
        "1 & 2 & 3 \\\\\n",
        "4 & 5 & 6\n",
        "\\end{bmatrix}  $\n",
        "\n",
        "Matrix B :\n",
        "\n",
        "$ \\begin{bmatrix}\n",
        "7 & 8 \\\\\n",
        "9 & 10 \\\\\n",
        "11 & 12\n",
        "\\end{bmatrix}  $\n",
        "\n",
        "The resultant matrix will be C(2,2)\n",
        "\n",
        "1. $ C[1][1] = (1*7)+(2*9)+(3*11) $\n",
        "2. $ C[1][2] = (1*8)+(2*10)+(3*12) $\n",
        "3. $ C[2][1] = (4*7)+(5*9)+(6*11) $\n",
        "4. $ C[1][2] = (4*8)+(5*10)+(6*12) $\n",
        "\n",
        "Here we can notice that the total number of :\n",
        "1. Multiplication = $ n*m*k = 2*2*3 = 12 $\n",
        "2. Addition = $ n*m*(k-1) = 2*2*2 = 8 $\n",
        "\n"
      ],
      "metadata": {
        "id": "1zAyxBqT5OGj"
      }
    },
    {
      "cell_type": "markdown",
      "source": [
        "# 2. Write Python code to multiply the above two matrices. Solve using list of lists and then use numpy. Compare the timing of both solutions. Which one is faster? Why?"
      ],
      "metadata": {
        "id": "r-VDJmzO5bof"
      }
    },
    {
      "cell_type": "markdown",
      "source": [
        "Case 1 : Considering the above matrices we will have a similar performance in both list of lists and by using NumPy since NumPy works better for larger dimensions."
      ],
      "metadata": {
        "id": "8ml42nwK5ctQ"
      }
    },
    {
      "cell_type": "code",
      "source": [
        "import time\n",
        "import numpy as np\n",
        "\n",
        "# Small matrices\n",
        "A1 = [[1, 2, 3],\n",
        "    [4, 5, 6]]\n",
        "\n",
        "B1 = [[7, 8],\n",
        "    [9, 10],\n",
        "    [11, 12]]\n",
        "\n",
        "def matrix_mul(A, B):\n",
        "    rows_A = len(A)\n",
        "    cols_A = len(A[0])\n",
        "    cols_B = len(B[0])\n",
        "    C = [[0 for _ in range(cols_B)] for _ in range(rows_A)]\n",
        "    for i in range(rows_A):\n",
        "        for j in range(cols_B):\n",
        "            for k in range(cols_A):\n",
        "                C[i][j] += A[i][k] * B[k][j]\n",
        "    return C\n",
        "\n",
        "# Using list of lists\n",
        "start_time = time.time()\n",
        "C1_list = matrix_mul(A1, B1)\n",
        "end_time = time.time()\n",
        "time_list_small = end_time - start_time\n",
        "\n",
        "# Using NumPy\n",
        "A1_np = np.array(A1)\n",
        "B1_np = np.array(B1)\n",
        "start_time = time.time()\n",
        "C1_np = np.dot(A1_np, B1_np)\n",
        "end_time = time.time()\n",
        "time_numpy_small = end_time - start_time\n",
        "\n",
        "print(\"Scenario 1: Similar Performance\")\n",
        "print(f\"Time using list of lists: {time_list_small:.20f} seconds\")\n",
        "print(f\"Time using NumPy: {time_numpy_small:.20f} seconds\\n\")"
      ],
      "metadata": {
        "colab": {
          "base_uri": "https://localhost:8080/"
        },
        "id": "O8fDV7sz5jsK",
        "outputId": "e23d25b0-39a6-4a13-d87f-098373bba1ba"
      },
      "execution_count": 1,
      "outputs": [
        {
          "output_type": "stream",
          "name": "stdout",
          "text": [
            "Scenario 1: Similar Performance\n",
            "Time using list of lists: 0.00017452239990234375 seconds\n",
            "Time using NumPy: 0.00276899337768554688 seconds\n",
            "\n"
          ]
        }
      ]
    },
    {
      "cell_type": "markdown",
      "source": [
        "Case 2: In case of very small matrices the list of lists will sometimes perform slightly better than the NumPy with negligible difference"
      ],
      "metadata": {
        "id": "eE_KtLnO5xSp"
      }
    },
    {
      "cell_type": "code",
      "source": [
        "A2 = [[1, 2]]\n",
        "\n",
        "B2 = [[3],\n",
        "     [4]]\n",
        "\n",
        "# Using list of lists\n",
        "start_time = time.time()\n",
        "C2_list = matrix_mul(A2, B2)\n",
        "end_time = time.time()\n",
        "time_list_tiny = end_time - start_time\n",
        "\n",
        "# Using NumPy\n",
        "A2_np = np.array(A2)\n",
        "B2_np = np.array(B2)\n",
        "start_time = time.time()\n",
        "C2_np = np.dot(A2_np, B2_np)\n",
        "end_time = time.time()\n",
        "time_numpy_tiny = end_time - start_time\n",
        "\n",
        "print(\"Scenario 2: Small Matrices\")\n",
        "print(f\"Time using list of lists: {time_list_tiny:.20f} seconds\")\n",
        "print(f\"Time using NumPy: {time_numpy_tiny:.20f} seconds\\n\")"
      ],
      "metadata": {
        "colab": {
          "base_uri": "https://localhost:8080/"
        },
        "id": "qAHCo-rI5ykE",
        "outputId": "e3516041-ae75-4ff5-8bcc-35b4e7ce528f"
      },
      "execution_count": 2,
      "outputs": [
        {
          "output_type": "stream",
          "name": "stdout",
          "text": [
            "Scenario 2: Small Matrices\n",
            "Time using list of lists: 0.00009131431579589844 seconds\n",
            "Time using NumPy: 0.00011086463928222656 seconds\n",
            "\n"
          ]
        }
      ]
    },
    {
      "cell_type": "markdown",
      "source": [
        "Case 3: In case of very large matrices the NumPy function is going to be much faster than the list of lists due to the vectorization and also the implementation of NumPy in C makes it more efficient to execute"
      ],
      "metadata": {
        "id": "ft-FWE9Z53wA"
      }
    },
    {
      "cell_type": "code",
      "source": [
        "np.random.seed(0)\n",
        "A3 = np.random.randint(0, 10, size=(100, 100)).tolist()\n",
        "B3 = np.random.randint(0, 10, size=(100, 100)).tolist()\n",
        "\n",
        "# Using list of lists\n",
        "start_time = time.time()\n",
        "C3_list = matrix_mul(A3, B3)\n",
        "end_time = time.time()\n",
        "time_list_large = end_time - start_time\n",
        "\n",
        "# Using NumPy\n",
        "A3_np = np.array(A3)\n",
        "B3_np = np.array(B3)\n",
        "start_time = time.time()\n",
        "C3_np = np.dot(A3_np, B3_np)\n",
        "end_time = time.time()\n",
        "time_numpy_large = end_time - start_time\n",
        "\n",
        "print(\"Scenario 3: Large Matrices\")\n",
        "print(f\"Time using list of lists: {time_list_large:.6f} seconds\")\n",
        "print(f\"Time using NumPy: {time_numpy_large:.6f} seconds\")\n",
        "print(f\"NumPy is {time_list_large / time_numpy_large:.2f} times faster than list of lists\\n\")"
      ],
      "metadata": {
        "colab": {
          "base_uri": "https://localhost:8080/"
        },
        "id": "Ub6vKxzn54y7",
        "outputId": "c64a3624-e01a-4c3d-93a2-bda3537fbac0"
      },
      "execution_count": 3,
      "outputs": [
        {
          "output_type": "stream",
          "name": "stdout",
          "text": [
            "Scenario 3: Large Matrices\n",
            "Time using list of lists: 0.207473 seconds\n",
            "Time using NumPy: 0.001081 seconds\n",
            "NumPy is 192.01 times faster than list of lists\n",
            "\n"
          ]
        }
      ]
    },
    {
      "cell_type": "markdown",
      "source": [
        "# 3. Finding the highest element in a list requires one pass of the array. Finding the second highest element requires 2 passes of the the array. Using this method, what is the time complexity of finding the median of the array? Can you suggest a better method? Can you implement both these methods in Python and compare against numpy.median routine in terms of time?"
      ],
      "metadata": {
        "id": "pkt7A4_X59H_"
      }
    },
    {
      "cell_type": "markdown",
      "source": [
        "If we want to find the median of an array using the method of finding the highest element using one pass of the array and finding the second highest element using two passes of the array, then in the case of large arrays it will be highly inefficient, as the time complexity in that case will be $O(n^2)$ in the worst case since we will need k passes for finding k-th highest element."
      ],
      "metadata": {
        "id": "NTFJ-tWh6AuQ"
      }
    },
    {
      "cell_type": "code",
      "source": [
        "arr = np.random.randint(0, 10000, size=1000).tolist()\n",
        "\n",
        "def kth_largest(arr, k):\n",
        "    for i in range(k):\n",
        "        max_val = float('-inf')\n",
        "        for num in arr:\n",
        "            if num > max_val:\n",
        "                max_val = num\n",
        "        arr.remove(max_val)\n",
        "    return max_val\n",
        "def median_old(arr):\n",
        "    n = len(arr)\n",
        "    if n % 2 == 1:\n",
        "        return kth_largest(arr.copy(), n // 2 + 1)\n",
        "    else:\n",
        "        return (kth_largest(arr.copy(), n // 2) + kth_largest(arr.copy(), n // 2 + 1)) / 2\n",
        "\n",
        "start_time = time.time()\n",
        "median_res = median_old(arr)\n",
        "end_time = time.time()\n",
        "time_res = end_time - start_time\n",
        "\n",
        "print(f\"Median using inefficient method: {median_res}\")\n",
        "print(f\"Time taken by inefficient method: {time_res:.20f} seconds\")\n",
        "\n",
        "start_time = time.time()\n",
        "median_numpy = np.median(arr)\n",
        "end_time = time.time()\n",
        "time_numpy = end_time - start_time\n",
        "\n",
        "print(f\"Median using NumPy: {median_numpy}\")\n",
        "print(f\"Time taken by NumPy: {time_numpy:.20f} seconds\")"
      ],
      "metadata": {
        "colab": {
          "base_uri": "https://localhost:8080/"
        },
        "id": "f_aD2qBC6DQ4",
        "outputId": "9e2a185c-2aa9-46f9-8fde-622c423e4620"
      },
      "execution_count": 4,
      "outputs": [
        {
          "output_type": "stream",
          "name": "stdout",
          "text": [
            "Median using inefficient method: 4884.5\n",
            "Time taken by inefficient method: 0.10927820205688476562 seconds\n",
            "Median using NumPy: 4884.5\n",
            "Time taken by NumPy: 0.00259208679199218750 seconds\n"
          ]
        }
      ]
    },
    {
      "cell_type": "markdown",
      "source": [
        "#### A relatively better method is to use the quickselect because the time complexity is much better than the previous method"
      ],
      "metadata": {
        "id": "3KHx6jJI6HDB"
      }
    },
    {
      "cell_type": "code",
      "source": [
        "import random\n",
        "\n",
        "def partition(arr, left, right, pvt):\n",
        "    pvt_val = arr[pvt]\n",
        "    arr[pvt], arr[right] = arr[right], arr[pvt]\n",
        "    store_index = left\n",
        "    for i in range(left, right):\n",
        "        if arr[i] < pvt_val:\n",
        "            arr[store_index], arr[i] = arr[i], arr[store_index]\n",
        "            store_index += 1\n",
        "    arr[right], arr[store_index] = arr[store_index], arr[right]\n",
        "    return store_index\n",
        "\n",
        "def quickselect(arr, left, right, k):\n",
        "    if left == right:\n",
        "        return arr[left]\n",
        "\n",
        "    pvt = random.randint(left, right)\n",
        "    pvt = partition(arr, left, right, pvt)\n",
        "\n",
        "    if k == pvt:\n",
        "        return arr[k]\n",
        "    elif k < pvt:\n",
        "        return quickselect(arr, left, pvt - 1, k)\n",
        "    else:\n",
        "        return quickselect(arr, pvt + 1, right, k)\n",
        "\n",
        "def find_quickselect(arr):\n",
        "    n = len(arr)\n",
        "    if n % 2 == 1:\n",
        "        return quickselect(arr.copy(), 0, n - 1, n // 2)\n",
        "    else:\n",
        "        return (quickselect(arr.copy(), 0, n - 1, n // 2 - 1) + quickselect(arr.copy(), 0, n - 1, n // 2)) / 2\n",
        "\n",
        "# Measure the time for the Quickselect method\n",
        "start_time = time.time()\n",
        "median_quickselect = find_quickselect(arr)\n",
        "end_time = time.time()\n",
        "time_quickselect = end_time - start_time\n",
        "\n",
        "print(f\"Median using Quickselect method: {median_quickselect}\")\n",
        "print(f\"Time taken by Quickselect method: {time_quickselect:.6f} seconds\")"
      ],
      "metadata": {
        "colab": {
          "base_uri": "https://localhost:8080/"
        },
        "id": "Lear1uH26JmQ",
        "outputId": "bea54b08-d663-45a6-9b6c-38e80ab9e6a6"
      },
      "execution_count": 5,
      "outputs": [
        {
          "output_type": "stream",
          "name": "stdout",
          "text": [
            "Median using Quickselect method: 4884.5\n",
            "Time taken by Quickselect method: 0.002635 seconds\n"
          ]
        }
      ]
    },
    {
      "cell_type": "markdown",
      "source": [
        "#4. What is the gradient of the following function with respect to x and y?#\n",
        "$x^2y + y^3sin(x)$"
      ],
      "metadata": {
        "id": "vSe0LMoDBqaQ"
      }
    },
    {
      "cell_type": "markdown",
      "source": [
        "To find the gradient of the function $ f(x, y) = x^2 y + y^3 \\sin(x) $, we compute the partial derivatives with respect to $( x ) $ and $( y )$.\n",
        "\n",
        "1. *Partial derivative with respect to \\( x \\)*:\n",
        "\n",
        "   \n",
        "   $ \\frac{\\partial f}{\\partial x} = \\frac{\\partial}{\\partial x} (x^2 y + y^3 \\sin(x)) $\n",
        "   \n",
        "\n",
        "\n",
        "   Therefore,\n",
        "\n",
        "   \n",
        "   $ \\frac{\\partial f}{\\partial x} = 2xy + y^3 \\cos(x) $\n",
        "   \n",
        "\n",
        "2. *Partial derivative with respect to \\( y \\)*:\n",
        "\n",
        "   \n",
        "   $ \\frac{\\partial f}{\\partial y} = \\frac{\\partial}{\\partial y} (x^2 y + y^3 \\sin(x)) $\n",
        "\n",
        "\n",
        "   Therefore,\n",
        "\n",
        "   \n",
        "  $ \\frac{\\partial f}{\\partial y} = x^2 + 3y^2 \\sin(x) $\n",
        "\n",
        "So, the gradient of the function $ f(x, y)) $ is:\n",
        "\n",
        "\n",
        "$ \\nabla f(x, y) = \\left( \\frac{\\partial f}{\\partial x}, \\frac{\\partial f}{\\partial y} \\right) = \\left( 2xy + y^3 \\cos(x), x^2 + 3y^2 \\sin(x) \\right) $"
      ],
      "metadata": {
        "id": "-F14WMJoB_Vf"
      }
    },
    {
      "cell_type": "markdown",
      "source": [
        "#6. Use sympy to confirm that you obtain the same gradient analytically.#"
      ],
      "metadata": {
        "id": "C9AqRb80CTib"
      }
    },
    {
      "cell_type": "code",
      "source": [
        "import sympy as sp\n",
        "\n",
        "# Define the variables\n",
        "x, y = sp.symbols('x y')\n",
        "\n",
        "# Define the function\n",
        "f = x*2 * y + y*3 * sp.sin(x)\n",
        "\n",
        "# Compute the partial derivatives\n",
        "df_dx = sp.diff(f, x)\n",
        "df_dy = sp.diff(f, y)\n",
        "\n",
        "# Display the partial derivatives\n",
        "print(f\"∂f/∂x = {df_dx}\")\n",
        "print(f\"∂f/∂y = {df_dy}\")"
      ],
      "metadata": {
        "colab": {
          "base_uri": "https://localhost:8080/"
        },
        "id": "W2844gzCCZSr",
        "outputId": "c8d016f0-0dd9-4ee0-934a-9bd9d5433163"
      },
      "execution_count": 15,
      "outputs": [
        {
          "output_type": "stream",
          "name": "stdout",
          "text": [
            "∂f/∂x = 3*y*cos(x) + 2*y\n",
            "∂f/∂y = 2*x + 3*sin(x)\n"
          ]
        }
      ]
    },
    {
      "cell_type": "markdown",
      "source": [
        "# 7. Create a Python nested dictionary to represent hierarchical information. We want to store record of students and their marks. Something like:\n",
        "\n",
        "    1. 2022\n",
        "        1. Branch 1\n",
        "                Roll Number: 1,\n",
        "                Name: N,\n",
        "                Marks:\n",
        "                    Maths: 100,\n",
        "                    English: 70 ...\n",
        "        2. Branch 2\n",
        "    2. 2023\n",
        "        1. Branch 1\n",
        "        2. Branch 2\n",
        "    3. 2024\n",
        "        1. Branch 1\n",
        "        2. Branch 2\n",
        "    4. 2025\n",
        "        1. Branch 1\n",
        "        2. Branch 2"
      ],
      "metadata": {
        "id": "A_f4aOVn6Pfq"
      }
    },
    {
      "cell_type": "code",
      "source": [
        "student_records = {\n",
        "    2022: {\n",
        "        \"Branch 1\": {\n",
        "            1: {\n",
        "                \"Roll Number\": 1,\n",
        "                \"Name\": \"Lionel Messi\",\n",
        "                \"Marks\": {\n",
        "                    \"Maths\": 95,\n",
        "                    \"English\": 85,\n",
        "                    \"Physics\": 90\n",
        "                }\n",
        "            },\n",
        "            2: {\n",
        "                \"Roll Number\": 2,\n",
        "                \"Name\": \"Cristiano Ronaldo\",\n",
        "                \"Marks\": {\n",
        "                    \"Maths\": 88,\n",
        "                    \"English\": 78,\n",
        "                    \"Physics\": 84\n",
        "                }\n",
        "            }\n",
        "        },\n",
        "        \"Branch 2\": {\n",
        "            1: {\n",
        "                \"Roll Number\": 1,\n",
        "                \"Name\": \"Neymar Jr\",\n",
        "                \"Marks\": {\n",
        "                    \"Maths\": 80,\n",
        "                    \"English\": 75,\n",
        "                    \"Physics\": 82\n",
        "                }\n",
        "            },\n",
        "            2: {\n",
        "                \"Roll Number\": 2,\n",
        "                \"Name\": \"Kylian Mbappe\",\n",
        "                \"Marks\": {\n",
        "                    \"Maths\": 92,\n",
        "                    \"English\": 89,\n",
        "                    \"Physics\": 94\n",
        "                }\n",
        "            }\n",
        "        }\n",
        "    },\n",
        "    2023: {\n",
        "        \"Branch 1\": {\n",
        "            1: {\n",
        "                \"Roll Number\": 1,\n",
        "                \"Name\": \"Luka Modric\",\n",
        "                \"Marks\": {\n",
        "                    \"Maths\": 87,\n",
        "                    \"English\": 83,\n",
        "                    \"Physics\": 85\n",
        "                }\n",
        "            },\n",
        "            2: {\n",
        "                \"Roll Number\": 2,\n",
        "                \"Name\": \"Sergio Ramos\",\n",
        "                \"Marks\": {\n",
        "                    \"Maths\": 78,\n",
        "                    \"English\": 72,\n",
        "                    \"Physics\": 80\n",
        "                }\n",
        "            }\n",
        "        },\n",
        "        \"Branch 2\": {\n",
        "            1: {\n",
        "                \"Roll Number\": 1,\n",
        "                \"Name\": \"Robert Lewandowski\",\n",
        "                \"Marks\": {\n",
        "                    \"Maths\": 90,\n",
        "                    \"English\": 88,\n",
        "                    \"Physics\": 92\n",
        "                }\n",
        "            },\n",
        "            2: {\n",
        "                \"Roll Number\": 2,\n",
        "                \"Name\": \"Kevin De Bruyne\",\n",
        "                \"Marks\": {\n",
        "                    \"Maths\": 85,\n",
        "                    \"English\": 80,\n",
        "                    \"Physics\": 87\n",
        "                }\n",
        "            }\n",
        "        }\n",
        "    },\n",
        "    2024: {\n",
        "        \"Branch 1\": {\n",
        "            1: {\n",
        "                \"Roll Number\": 1,\n",
        "                \"Name\": \"Virgil van Dijk\",\n",
        "                \"Marks\": {\n",
        "                    \"Maths\": 89,\n",
        "                    \"English\": 86,\n",
        "                    \"Physics\": 88\n",
        "                }\n",
        "            },\n",
        "            2: {\n",
        "                \"Roll Number\": 2,\n",
        "                \"Name\": \"Mohamed Salah\",\n",
        "                \"Marks\": {\n",
        "                    \"Maths\": 82,\n",
        "                    \"English\": 79,\n",
        "                    \"Physics\": 84\n",
        "                }\n",
        "            }\n",
        "        },\n",
        "        \"Branch 2\": {\n",
        "            1: {\n",
        "                \"Roll Number\": 1,\n",
        "                \"Name\": \"Sadio Mane\",\n",
        "                \"Marks\": {\n",
        "                    \"Maths\": 91,\n",
        "                    \"English\": 87,\n",
        "                    \"Physics\": 89\n",
        "                }\n",
        "            },\n",
        "            2: {\n",
        "                \"Roll Number\": 2,\n",
        "                \"Name\": \"Eden Hazard\",\n",
        "                \"Marks\": {\n",
        "                    \"Maths\": 83,\n",
        "                    \"English\": 78,\n",
        "                    \"Physics\": 85\n",
        "                }\n",
        "            }\n",
        "        }\n",
        "    },\n",
        "    2025: {\n",
        "        \"Branch 1\": {\n",
        "            1: {\n",
        "                \"Roll Number\": 1,\n",
        "                \"Name\": \"Harry Kane\",\n",
        "                \"Marks\": {\n",
        "                    \"Maths\": 93,\n",
        "                    \"English\": 88,\n",
        "                    \"Physics\": 91\n",
        "                }\n",
        "            },\n",
        "            2: {\n",
        "                \"Roll Number\": 2,\n",
        "                \"Name\": \"Raheem Sterling\",\n",
        "                \"Marks\": {\n",
        "                    \"Maths\": 84,\n",
        "                    \"English\": 80,\n",
        "                    \"Physics\": 86\n",
        "                }\n",
        "            }\n",
        "        },\n",
        "        \"Branch 2\": {\n",
        "            1: {\n",
        "                \"Roll Number\": 1,\n",
        "                \"Name\": \"Karim Benzema\",\n",
        "                \"Marks\": {\n",
        "                    \"Maths\": 88,\n",
        "                    \"English\": 82,\n",
        "                    \"Physics\": 89\n",
        "                }\n",
        "            },\n",
        "            2: {\n",
        "                \"Roll Number\": 2,\n",
        "                \"Name\": \"Antoine Griezmann\",\n",
        "                \"Marks\": {\n",
        "                    \"Maths\": 79,\n",
        "                    \"English\": 74,\n",
        "                    \"Physics\": 81\n",
        "                }\n",
        "            }\n",
        "        }\n",
        "    }\n",
        "}\n"
      ],
      "metadata": {
        "id": "ZCL8MaQR6RPd"
      },
      "execution_count": 6,
      "outputs": []
    },
    {
      "cell_type": "markdown",
      "source": [
        "# 8. Store the same information using Python classes. We have an overall database which is a list of year objects. Each year contains a list of branches. Each branch contains a list of students. Each student has some properties like name, roll number and has marks in some subjects."
      ],
      "metadata": {
        "id": "zNNUn7i_6Xej"
      }
    },
    {
      "cell_type": "code",
      "source": [
        "class Student:\n",
        "    def __init__(self, roll_number, name, marks):\n",
        "        self.roll_number = roll_number\n",
        "        self.name = name\n",
        "        self.marks = marks\n",
        "\n",
        "    def __repr__(self):\n",
        "        return f\"Student(roll_number={self.roll_number}, name='{self.name}', marks={self.marks})\"\n",
        "\n",
        "class Branch:\n",
        "    def __init__(self, name):\n",
        "        self.name = name\n",
        "        self.students = []\n",
        "\n",
        "    def add_student(self, student):\n",
        "        self.students.append(student)\n",
        "\n",
        "    def __repr__(self):\n",
        "        return f\"Branch(name='{self.name}', students={self.students})\"\n",
        "\n",
        "class Year:\n",
        "    def __init__(self, year):\n",
        "        self.year = year\n",
        "        self.branches = []\n",
        "\n",
        "    def add_branch(self, branch):\n",
        "        self.branches.append(branch)\n",
        "\n",
        "    def __repr__(self):\n",
        "        return f\"Year(year={self.year}, branches={self.branches})\"\n",
        "\n",
        "class Database:\n",
        "    def __init__(self):\n",
        "        self.years = []\n",
        "\n",
        "    def add_year(self, year):\n",
        "        self.years.append(year)\n",
        "\n",
        "    def __repr__(self):\n",
        "        return f\"Database(years={self.years})\"\n",
        "\n",
        "# Create the database\n",
        "db = Database()\n",
        "\n",
        "year_2022 = Year(2022)\n",
        "branch_1_2022 = Branch(\"Branch 1\")\n",
        "branch_1_2022.add_student(Student(1, \"Lionel Messi\", {\"Maths\": 95, \"English\": 85, \"Physics\": 90}))\n",
        "branch_1_2022.add_student(Student(2, \"Cristiano Ronaldo\", {\"Maths\": 88, \"English\": 78, \"Physics\": 84}))\n",
        "branch_2_2022 = Branch(\"Branch 2\")\n",
        "branch_2_2022.add_student(Student(1, \"Neymar Jr\", {\"Maths\": 80, \"English\": 75, \"Physics\": 82}))\n",
        "branch_2_2022.add_student(Student(2, \"Kylian Mbappe\", {\"Maths\": 92, \"English\": 89, \"Physics\": 94}))\n",
        "\n",
        "year_2022.add_branch(branch_1_2022)\n",
        "year_2022.add_branch(branch_2_2022)\n",
        "db.add_year(year_2022)\n",
        "\n",
        "year_2023 = Year(2023)\n",
        "branch_1_2023 = Branch(\"Branch 1\")\n",
        "branch_1_2023.add_student(Student(1, \"Luka Modric\", {\"Maths\": 87, \"English\": 83, \"Physics\": 85}))\n",
        "branch_1_2023.add_student(Student(2, \"Sergio Ramos\", {\"Maths\": 78, \"English\": 72, \"Physics\": 80}))\n",
        "branch_2_2023 = Branch(\"Branch 2\")\n",
        "branch_2_2023.add_student(Student(1, \"Robert Lewandowski\", {\"Maths\": 90, \"English\": 88, \"Physics\": 92}))\n",
        "branch_2_2023.add_student(Student(2, \"Kevin De Bruyne\", {\"Maths\": 85, \"English\": 80, \"Physics\": 87}))\n",
        "\n",
        "year_2023.add_branch(branch_1_2023)\n",
        "year_2023.add_branch(branch_2_2023)\n",
        "db.add_year(year_2023)\n",
        "\n",
        "year_2024 = Year(2024)\n",
        "branch_1_2024 = Branch(\"Branch 1\")\n",
        "branch_1_2024.add_student(Student(1, \"Virgil van Dijk\", {\"Maths\": 89, \"English\": 86, \"Physics\": 88}))\n",
        "branch_1_2024.add_student(Student(2, \"Mohamed Salah\", {\"Maths\": 82, \"English\": 79, \"Physics\": 84}))\n",
        "branch_2_2024 = Branch(\"Branch 2\")\n",
        "branch_2_2024.add_student(Student(1, \"Sadio Mane\", {\"Maths\": 91, \"English\": 87, \"Physics\": 89}))\n",
        "branch_2_2024.add_student(Student(2, \"Eden Hazard\", {\"Maths\": 83, \"English\": 78, \"Physics\": 85}))\n",
        "\n",
        "year_2024.add_branch(branch_1_2024)\n",
        "year_2024.add_branch(branch_2_2024)\n",
        "db.add_year(year_2024)\n",
        "\n",
        "year_2025 = Year(2025)\n",
        "branch_1_2025 = Branch(\"Branch 1\")\n",
        "branch_1_2025.add_student(Student(1, \"Harry Kane\", {\"Maths\": 93, \"English\": 88, \"Physics\": 91}))\n",
        "branch_1_2025.add_student(Student(2, \"Raheem Sterling\", {\"Maths\": 84, \"English\": 80, \"Physics\": 86}))\n",
        "branch_2_2025 = Branch(\"Branch 2\")\n",
        "branch_2_2025.add_student(Student(1, \"Karim Benzema\", {\"Maths\": 88, \"English\": 82, \"Physics\": 89}))\n",
        "branch_2_2025.add_student(Student(2, \"Antoine Griezmann\", {\"Maths\": 79, \"English\": 74, \"Physics\": 81}))\n",
        "\n",
        "year_2025.add_branch(branch_1_2025)\n",
        "year_2025.add_branch(branch_2_2025)\n",
        "db.add_year(year_2025)\n",
        "\n",
        "print(db)\n"
      ],
      "metadata": {
        "colab": {
          "base_uri": "https://localhost:8080/"
        },
        "id": "S0SunEP66ZJt",
        "outputId": "45088aa9-37d8-4777-a7c0-caad3816068e"
      },
      "execution_count": 7,
      "outputs": [
        {
          "output_type": "stream",
          "name": "stdout",
          "text": [
            "Database(years=[Year(year=2022, branches=[Branch(name='Branch 1', students=[Student(roll_number=1, name='Lionel Messi', marks={'Maths': 95, 'English': 85, 'Physics': 90}), Student(roll_number=2, name='Cristiano Ronaldo', marks={'Maths': 88, 'English': 78, 'Physics': 84})]), Branch(name='Branch 2', students=[Student(roll_number=1, name='Neymar Jr', marks={'Maths': 80, 'English': 75, 'Physics': 82}), Student(roll_number=2, name='Kylian Mbappe', marks={'Maths': 92, 'English': 89, 'Physics': 94})])]), Year(year=2023, branches=[Branch(name='Branch 1', students=[Student(roll_number=1, name='Luka Modric', marks={'Maths': 87, 'English': 83, 'Physics': 85}), Student(roll_number=2, name='Sergio Ramos', marks={'Maths': 78, 'English': 72, 'Physics': 80})]), Branch(name='Branch 2', students=[Student(roll_number=1, name='Robert Lewandowski', marks={'Maths': 90, 'English': 88, 'Physics': 92}), Student(roll_number=2, name='Kevin De Bruyne', marks={'Maths': 85, 'English': 80, 'Physics': 87})])]), Year(year=2024, branches=[Branch(name='Branch 1', students=[Student(roll_number=1, name='Virgil van Dijk', marks={'Maths': 89, 'English': 86, 'Physics': 88}), Student(roll_number=2, name='Mohamed Salah', marks={'Maths': 82, 'English': 79, 'Physics': 84})]), Branch(name='Branch 2', students=[Student(roll_number=1, name='Sadio Mane', marks={'Maths': 91, 'English': 87, 'Physics': 89}), Student(roll_number=2, name='Eden Hazard', marks={'Maths': 83, 'English': 78, 'Physics': 85})])]), Year(year=2025, branches=[Branch(name='Branch 1', students=[Student(roll_number=1, name='Harry Kane', marks={'Maths': 93, 'English': 88, 'Physics': 91}), Student(roll_number=2, name='Raheem Sterling', marks={'Maths': 84, 'English': 80, 'Physics': 86})]), Branch(name='Branch 2', students=[Student(roll_number=1, name='Karim Benzema', marks={'Maths': 88, 'English': 82, 'Physics': 89}), Student(roll_number=2, name='Antoine Griezmann', marks={'Maths': 79, 'English': 74, 'Physics': 81})])])])\n"
          ]
        }
      ]
    },
    {
      "cell_type": "markdown",
      "source": [
        "# 9. Using matplotlib, plot the following functions on the domain: x = 0.5 to 100.0 in steps of 0.5\n",
        "\n",
        "i. $ y = x $\n",
        "\n",
        "ii. $ y = x^2 $\n",
        "\n",
        "iii. $ y = \\frac{x^3}{100} $\n",
        "\n",
        "iv. $ y = sin(x)^2 $\n",
        "\n",
        "v. $ y = \\frac{\\sin(x)}{x} $\n",
        "\n",
        "vi. $ y = \\log(x) $\n",
        "\n",
        "vii. $ y = e^x $"
      ],
      "metadata": {
        "id": "JK0wJXgh6eIh"
      }
    },
    {
      "cell_type": "code",
      "source": [
        "import numpy as np\n",
        "import matplotlib.pyplot as plt\n",
        "\n",
        "# Define the domain\n",
        "x = np.arange(0.5, 100.5, 0.5)\n",
        "\n",
        "# Define the functions\n",
        "y1 = x\n",
        "y2 = x**2\n",
        "y3 = x**3 / 100\n",
        "y4 = np.sin(x)\n",
        "y5 = np.sin(x) / x\n",
        "y6 = np.log(x)\n",
        "y7 = np.exp(x)\n",
        "\n",
        "# Create the plots\n",
        "plt.figure(figsize=(12, 16))\n",
        "\n",
        "# Plot y = x\n",
        "plt.subplot(4, 2, 1)\n",
        "plt.plot(x, y1, label='y = x')\n",
        "plt.legend()\n",
        "\n",
        "# Plot y = x^2\n",
        "plt.subplot(4, 2, 2)\n",
        "plt.plot(x, y2, label='y = x^2', color='orange')\n",
        "plt.legend()\n",
        "\n",
        "# Plot y = x^3 / 100\n",
        "plt.subplot(4, 2, 3)\n",
        "plt.plot(x, y3, label='y = x^3 / 100', color='green')\n",
        "plt.legend()\n",
        "\n",
        "# Plot y = sin(x)\n",
        "plt.subplot(4, 2, 4)\n",
        "plt.plot(x, y4, label='y = sin(x)', color='red')\n",
        "plt.legend()\n",
        "\n",
        "# Plot y = sin(x) / x\n",
        "plt.subplot(4, 2, 5)\n",
        "plt.plot(x, y5, label='y = sin(x) / x', color='purple')\n",
        "plt.legend()\n",
        "\n",
        "# Plot y = log(x)\n",
        "plt.subplot(4, 2, 6)\n",
        "plt.plot(x, y6, label='y = log(x)', color='brown')\n",
        "plt.legend()\n",
        "\n",
        "# Plot y = e^x\n",
        "plt.subplot(4, 2, 7)\n",
        "plt.plot(x, y7, label='y = e^x', color='blue')\n",
        "plt.ylim(0, 1e10)  # Set y-axis limit to avoid overflow\n",
        "plt.legend()\n",
        "\n",
        "# Adjust layout to avoid overlapping\n",
        "plt.tight_layout()\n",
        "plt.show()\n"
      ],
      "metadata": {
        "colab": {
          "base_uri": "https://localhost:8080/",
          "height": 1000
        },
        "id": "tFuMKRA-6f8Q",
        "outputId": "79e03d18-2d80-4a5c-ef18-08d4b3a3ec79"
      },
      "execution_count": 8,
      "outputs": [
        {
          "output_type": "display_data",
          "data": {
            "text/plain": [
              "<Figure size 1200x1600 with 7 Axes>"
            ],
            "image/png": "[encoded data removed]"
          },
          "metadata": {}
        }
      ]
    },
    {
      "cell_type": "markdown",
      "source": [
        "# 10. Using numpy generate a matrix of size 20X5 containing random numbers drawn uniformly from the range of 1 to 2. Using Pandas create a dataframe out of this matrix. Name the columns of the dataframe as “a”, “b”, “c”, “d”, “e”. Find the column with the highest standard deviation. Find the row with the lowest mean."
      ],
      "metadata": {
        "id": "dQFA8nBG6ldx"
      }
    },
    {
      "cell_type": "code",
      "source": [
        "import numpy as np\n",
        "import pandas as pd\n",
        "\n",
        "# Generate the 20x5 matrix\n",
        "matrix = np.random.uniform(1, 2, size=(20, 5))\n",
        "\n",
        "# Create the DataFrame\n",
        "df = pd.DataFrame(matrix, columns=[\"a\", \"b\", \"c\", \"d\", \"e\"])\n",
        "\n",
        "print(df)"
      ],
      "metadata": {
        "colab": {
          "base_uri": "https://localhost:8080/"
        },
        "id": "coPI7Azz6nQZ",
        "outputId": "9db828a2-022d-49b6-ff64-63d45402821d"
      },
      "execution_count": 9,
      "outputs": [
        {
          "output_type": "stream",
          "name": "stdout",
          "text": [
            "           a         b         c         d         e\n",
            "0   1.839910  1.739024  1.511330  1.273646  1.978385\n",
            "1   1.364146  1.673069  1.454764  1.096746  1.206379\n",
            "2   1.274899  1.958924  1.534511  1.769505  1.683857\n",
            "3   1.357460  1.901512  1.590586  1.673545  1.375278\n",
            "4   1.693279  1.086190  1.662632  1.334426  1.125059\n",
            "5   1.823481  1.009270  1.007118  1.733370  1.855793\n",
            "6   1.762607  1.982038  1.434282  1.373402  1.965750\n",
            "7   1.289833  1.743619  1.318457  1.792101  1.041522\n",
            "8   1.369073  1.624558  1.164131  1.505370  1.484876\n",
            "9   1.279493  1.164115  1.779950  1.804640  1.993761\n",
            "10  1.448337  1.925533  1.543566  1.595966  1.339091\n",
            "11  1.635102  1.226201  1.845704  1.876369  1.476059\n",
            "12  1.288984  1.732945  1.144168  1.306859  1.454715\n",
            "13  1.058054  1.126841  1.791575  1.246851  1.697960\n",
            "14  1.581703  1.032724  1.637393  1.457767  1.100918\n",
            "15  1.344409  1.507005  1.009700  1.369575  1.702234\n",
            "16  1.394326  1.473492  1.105145  1.829914  1.981977\n",
            "17  1.568792  1.784427  1.801291  1.494340  1.098394\n",
            "18  1.048461  1.394322  1.703937  1.082006  1.175687\n",
            "19  1.188322  1.143969  1.814004  1.864532  1.325506\n"
          ]
        }
      ]
    },
    {
      "cell_type": "code",
      "source": [
        "# Find the column with the highest standard deviation\n",
        "column_std = df.std()\n",
        "highest_std_column = column_std.idxmax()\n",
        "print(f\"Column with the highest standard deviation: {highest_std_column}\")\n",
        "\n",
        "# Find the row with the lowest mean\n",
        "row_mean = df.mean(axis=1)\n",
        "lowest_mean_row_index = row_mean.idxmin()\n",
        "print(f\"Row with the lowest mean: {lowest_mean_row_index}\")"
      ],
      "metadata": {
        "colab": {
          "base_uri": "https://localhost:8080/"
        },
        "id": "DBQJSBuZ6otD",
        "outputId": "6cda10e5-4fc0-490e-80af-28daeec9d1be"
      },
      "execution_count": 10,
      "outputs": [
        {
          "output_type": "stream",
          "name": "stdout",
          "text": [
            "Column with the highest standard deviation: b\n",
            "Row with the lowest mean: 18\n"
          ]
        }
      ]
    },
    {
      "cell_type": "markdown",
      "source": [
        "#11. Add a new column to the dataframe called “f” which is the sum of the columns “a”, “b”, “c”, “d”, “e”. Create another column called “g”. The value in the column “g” should be “LT8” if the value in the column “f” is less than 8 and “GT8” otherwise. Find the number of rows in the dataframe where the value in the column “g” is “LT8”. Find the standard deviation of the column “f” for the rows where the value in the column “g” is “LT8” and “GT8” respectively.#"
      ],
      "metadata": {
        "id": "GiXw30X9-HAq"
      }
    },
    {
      "cell_type": "code",
      "source": [
        "# Add new column 'f' which is the sum of columns \"a\", \"b\", \"c\", \"d\", \"e\"\n",
        "df['f'] = df.sum(axis=1)\n",
        "\n",
        "# Add new column 'g' which is \"LT8\" if 'f' < 8 and \"GT8\" otherwise\n",
        "df['g'] = df['f'].apply(lambda x: 'LT8' if x < 8 else 'GT8')\n",
        "\n",
        "# Find the number of rows where 'g' is \"LT8\"\n",
        "lt8_count = df[df['g'] == 'LT8'].shape[0]\n",
        "\n",
        "# Find the standard deviation of 'f' for rows where 'g' is \"LT8\"\n",
        "lt8_std = df[df['g'] == 'LT8']['f'].std()\n",
        "\n",
        "# Find the standard deviation of 'f' for rows where 'g' is \"GT8\"\n",
        "gt8_std = df[df['g'] == 'GT8']['f'].std()\n",
        "\n",
        "print(f\"Number of rows where 'g' is 'LT8': {lt8_count}\")\n",
        "print(f\"Standard deviation of 'f' for rows where 'g' is 'LT8': {lt8_std}\")\n",
        "print(f\"Standard deviation of 'f' for rows where 'g' is 'GT8': {gt8_std}\")\n"
      ],
      "metadata": {
        "colab": {
          "base_uri": "https://localhost:8080/"
        },
        "id": "X9skejok-PTC",
        "outputId": "a563d0d1-a77e-469b-bc2f-69ee19480d01"
      },
      "execution_count": 12,
      "outputs": [
        {
          "output_type": "stream",
          "name": "stdout",
          "text": [
            "Number of rows where 'g' is 'LT8': 15\n",
            "Standard deviation of 'f' for rows where 'g' is 'LT8': 0.4542987847687117\n",
            "Standard deviation of 'f' for rows where 'g' is 'GT8': 0.20494246261019386\n"
          ]
        }
      ]
    },
    {
      "cell_type": "markdown",
      "source": [
        "#12.Write a small piece of code to explain broadcasting in numpy.#"
      ],
      "metadata": {
        "id": "9OPd9ho_-mvB"
      }
    },
    {
      "cell_type": "code",
      "source": [
        "import numpy as np\n",
        "\n",
        "# Create a 3x3 matrix\n",
        "matrix = np.array([[1, 2, 3],\n",
        "                   [4, 5, 6],\n",
        "                   [7, 8, 9]])\n",
        "\n",
        "# Create a 1D array with 3 elements\n",
        "vector = np.array([1, 2, 3])\n",
        "\n",
        "# Add the 3x3 matrix and the 1D array\n",
        "result = matrix + vector\n",
        "\n",
        "print(\"Original matrix:\")\n",
        "print(matrix)\n",
        "\n",
        "print(\"\\nVector to be broadcast:\")\n",
        "print(vector)\n",
        "\n",
        "print(\"\\nResult of broadcasting:\")\n",
        "print(result)\n"
      ],
      "metadata": {
        "colab": {
          "base_uri": "https://localhost:8080/"
        },
        "id": "z_jUFV1U-pOX",
        "outputId": "0c6cf115-3531-487a-f880-7e35bd036a05"
      },
      "execution_count": 13,
      "outputs": [
        {
          "output_type": "stream",
          "name": "stdout",
          "text": [
            "Original matrix:\n",
            "[[1 2 3]\n",
            " [4 5 6]\n",
            " [7 8 9]]\n",
            "\n",
            "Vector to be broadcast:\n",
            "[1 2 3]\n",
            "\n",
            "Result of broadcasting:\n",
            "[[ 2  4  6]\n",
            " [ 5  7  9]\n",
            " [ 8 10 12]]\n"
          ]
        }
      ]
    },
    {
      "cell_type": "markdown",
      "source": [
        "#13. Write a function to compute the argmin of a numpy array. The function should take a numpy array as input and return the index of the minimum element. You can use the np.argmin function to verify your solution."
      ],
      "metadata": {
        "id": "aFpKJ6_I_EZY"
      }
    },
    {
      "cell_type": "code",
      "source": [
        "import numpy as np\n",
        "\n",
        "def func_argmin(arr):\n",
        "    if arr.size == 0:\n",
        "        raise ValueError(\"Cannot compute argmin of an empty array\")\n",
        "\n",
        "    min_index = 0\n",
        "    min_value = arr[0]\n",
        "\n",
        "    for i in range(1, len(arr)):\n",
        "        if arr[i] < min_value:\n",
        "            min_value = arr[i]\n",
        "            min_index = i\n",
        "\n",
        "    return min_index\n",
        "\n",
        "# Test the function\n",
        "array = np.array([3, 1, 4, 1, 5, 9, 2, 6, 5, 3, 5])\n",
        "new_min_index = func_argmin(array)\n",
        "np_min_index = np.argmin(array)\n",
        "\n",
        "print(f\"Computed argmin index: {new_min_index}\")\n",
        "print(f\"np.argmin index: {np_min_index}\")\n",
        "\n",
        "# Verify that both results are the same\n",
        "assert new_min_index == np_min_index, \"Not correct\"\n",
        "print(\"Correct\")\n"
      ],
      "metadata": {
        "colab": {
          "base_uri": "https://localhost:8080/"
        },
        "id": "gW-AFj-Z_Gum",
        "outputId": "55ee9cb1-fe96-4dea-b9fd-28fe5c2e1497"
      },
      "execution_count": 14,
      "outputs": [
        {
          "output_type": "stream",
          "name": "stdout",
          "text": [
            "Computed argmin index: 1\n",
            "np.argmin index: 1\n",
            "Correct\n"
          ]
        }
      ]
    }
  ]
}